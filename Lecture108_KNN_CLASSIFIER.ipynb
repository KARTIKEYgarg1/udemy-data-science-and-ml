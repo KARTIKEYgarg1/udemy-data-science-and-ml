{
  "nbformat": 4,
  "nbformat_minor": 0,
  "metadata": {
    "colab": {
      "provenance": [],
      "authorship_tag": "ABX9TyNOPr2DIXpUI9NozlqFHaov",
      "include_colab_link": true
    },
    "kernelspec": {
      "name": "python3",
      "display_name": "Python 3"
    },
    "language_info": {
      "name": "python"
    }
  },
  "cells": [
    {
      "cell_type": "markdown",
      "metadata": {
        "id": "view-in-github",
        "colab_type": "text"
      },
      "source": [
        "<a href=\"https://colab.research.google.com/github/KARTIKEYgarg1/udemy-data-science-and-ml/blob/master/Lecture108_KNN_CLASSIFIER.ipynb\" target=\"_parent\"><img src=\"https://colab.research.google.com/assets/colab-badge.svg\" alt=\"Open In Colab\"/></a>"
      ]
    },
    {
      "cell_type": "code",
      "execution_count": 4,
      "metadata": {
        "colab": {
          "base_uri": "https://localhost:8080/"
        },
        "id": "QhuxlhmUvHW8",
        "outputId": "2025bde7-c3a3-4513-a8d0-3fa3974e9cce"
      },
      "outputs": [
        {
          "output_type": "execute_result",
          "data": {
            "text/plain": [
              "array([0, 1, 2])"
            ]
          },
          "metadata": {},
          "execution_count": 4
        }
      ],
      "source": [
        "from sklearn.datasets import load_iris\n",
        "import numpy as np\n",
        "data=load_iris()\n",
        "X=data.data\n",
        "Y=data.target\n",
        "np.unique(Y)"
      ]
    },
    {
      "cell_type": "code",
      "source": [
        "def mySplit(X,Y,testSize):\n",
        "  idx=np.random.permutation(np.arange(len(Y)))\n",
        "  tS=int(np.floor(testSize*len(Y)))\n",
        "  tempX=idx[tS:]\n",
        "  tempY=idx[:tS]\n",
        "  trainX=X[tempX,:]\n",
        "  trainY=Y[tempX]\n",
        "  testX=X[tempY,:]\n",
        "  testY=Y[tempY]\n",
        "  return trainX,trainY,testX,testY\n",
        "trainX,trainY,testX,testY=mySplit(X,Y,0.2)"
      ],
      "metadata": {
        "id": "OVnZ-h0RvxbT"
      },
      "execution_count": 18,
      "outputs": []
    },
    {
      "cell_type": "code",
      "source": [
        "testX.shape"
      ],
      "metadata": {
        "colab": {
          "base_uri": "https://localhost:8080/"
        },
        "id": "P98Cdsxgvx0x",
        "outputId": "6a886746-ffef-413b-81bf-fbcf9668099e"
      },
      "execution_count": 21,
      "outputs": [
        {
          "output_type": "execute_result",
          "data": {
            "text/plain": [
              "(30, 4)"
            ]
          },
          "metadata": {},
          "execution_count": 21
        }
      ]
    },
    {
      "cell_type": "code",
      "source": [
        "D=np.sum(trainX[:,np.newaxis,:]-testX[np.newaxis,:,:]**2,axis=2)\n",
        "D"
      ],
      "metadata": {
        "colab": {
          "base_uri": "https://localhost:8080/"
        },
        "id": "wyvrPcvhvyF7",
        "outputId": "e687e627-f5c0-4a00-854e-86c696287ecb"
      },
      "execution_count": 26,
      "outputs": [
        {
          "output_type": "execute_result",
          "data": {
            "text/plain": [
              "array([[-86.42, -34.99, -25.27, ..., -67.39, -77.93, -26.76],\n",
              "       [-90.62, -39.19, -29.47, ..., -71.59, -82.13, -30.96],\n",
              "       [-88.22, -36.79, -27.07, ..., -69.19, -79.73, -28.56],\n",
              "       ...,\n",
              "       [-87.92, -36.49, -26.77, ..., -68.89, -79.43, -28.26],\n",
              "       [-92.42, -40.99, -31.27, ..., -73.39, -83.93, -32.76],\n",
              "       [-86.02, -34.59, -24.87, ..., -66.99, -77.53, -26.36]])"
            ]
          },
          "metadata": {},
          "execution_count": 26
        }
      ]
    },
    {
      "cell_type": "code",
      "source": [
        "ndix=np.argsort(D,axis=1)\n",
        "ndix"
      ],
      "metadata": {
        "colab": {
          "base_uri": "https://localhost:8080/"
        },
        "id": "VnyvNKDc2otm",
        "outputId": "5ca3a103-08d5-4a30-a48d-3ccda05deb3f"
      },
      "execution_count": 27,
      "outputs": [
        {
          "output_type": "execute_result",
          "data": {
            "text/plain": [
              "array([[23,  5, 17, ..., 21, 16, 15],\n",
              "       [23,  5, 17, ..., 21, 16, 15],\n",
              "       [23,  5, 17, ..., 21, 16, 15],\n",
              "       ...,\n",
              "       [23,  5, 17, ..., 21, 16, 15],\n",
              "       [23,  5, 17, ..., 21, 16, 15],\n",
              "       [23,  5, 17, ..., 21, 16, 15]])"
            ]
          },
          "metadata": {},
          "execution_count": 27
        }
      ]
    },
    {
      "cell_type": "code",
      "source": [],
      "metadata": {
        "colab": {
          "base_uri": "https://localhost:8080/"
        },
        "id": "1NDpkPIH28E9",
        "outputId": "d3502879-e2ea-41ea-b5e3-19d913d4e629"
      },
      "execution_count": 36,
      "outputs": [
        {
          "output_type": "stream",
          "name": "stdout",
          "text": [
            "[1 1 1 1 1 1 1 1 1 1 1 1 1 1 1 1 1 1 1 1 1 1 1 1 1 1 1 1 1 1 1 1 1 1 1 1 1\n",
            " 1 1 1 1 1 1 1 1 1 1 1 1 1 1 1 1 1 1 1 1 1 1 1 1 1 1 1 1 1 1 1 1 1 1 1 1 1\n",
            " 1 1 1 1 1 1 1 1 1 1 1 1 1 1 1 1 1 1 1 1 1 1 1 1 1 1 1 1 1 1 1 1 1 1 1 1]\n"
          ]
        }
      ]
    }
  ]
}