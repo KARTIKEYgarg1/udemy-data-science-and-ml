{
  "nbformat": 4,
  "nbformat_minor": 0,
  "metadata": {
    "colab": {
      "name": "Programs.ipynb",
      "provenance": [],
      "collapsed_sections": [],
      "authorship_tag": "ABX9TyOKyKVM0J5Jzbk02UP2WMyj",
      "include_colab_link": true
    },
    "kernelspec": {
      "name": "python3",
      "display_name": "Python 3"
    },
    "language_info": {
      "name": "python"
    }
  },
  "cells": [
    {
      "cell_type": "markdown",
      "metadata": {
        "id": "view-in-github",
        "colab_type": "text"
      },
      "source": [
        "<a href=\"https://colab.research.google.com/github/KARTIKEYgarg1/udemy-data-science-and-ml/blob/master/Programs.ipynb\" target=\"_parent\"><img src=\"https://colab.research.google.com/assets/colab-badge.svg\" alt=\"Open In Colab\"/></a>"
      ]
    },
    {
      "cell_type": "code",
      "execution_count": 5,
      "metadata": {
        "colab": {
          "base_uri": "https://localhost:8080/"
        },
        "id": "QYSQiDa1EwBA",
        "outputId": "834bc94d-2104-457d-8962-a492c973de0e"
      },
      "outputs": [
        {
          "output_type": "execute_result",
          "data": {
            "text/plain": [
              "[5, 3, 3, 2, 2, 1, 0, -5, -8]"
            ]
          },
          "metadata": {},
          "execution_count": 5
        }
      ],
      "source": [
        "\"\"\"\n",
        "LECTURE 39:SORTING A LIST\n",
        "\"\"\"\n",
        "\n",
        "L=[5,2,3,-5,3,2,1,0,-8]\n",
        "for i in range(len(L)):\n",
        "  for j in range(i,len(L)):\n",
        "    if L[i]<L[j]:\n",
        "      L[i],L[j]=L[j],L[i]\n",
        "L"
      ]
    },
    {
      "cell_type": "code",
      "source": [
        "len?"
      ],
      "metadata": {
        "id": "VkBGXJT7G9FZ"
      },
      "execution_count": 6,
      "outputs": []
    },
    {
      "cell_type": "code",
      "source": [
        "len??"
      ],
      "metadata": {
        "id": "_EEIECheHANr"
      },
      "execution_count": 7,
      "outputs": []
    },
    {
      "cell_type": "code",
      "source": [
        "\"\"\"Lecture 41:CREATING A SAMPLE \"\"\"\n",
        "\n",
        "\n",
        "def Sample():\n",
        "  \"\"\"This is a Sample Documentation: it can be viewed and saved for future purpose\"\"\"\n",
        "  print(\"runned\")\n",
        "Sample?"
      ],
      "metadata": {
        "id": "DddIWU97HEXo"
      },
      "execution_count": 9,
      "outputs": []
    }
  ]
}