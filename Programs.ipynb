{
  "nbformat": 4,
  "nbformat_minor": 0,
  "metadata": {
    "colab": {
      "name": "Programs.ipynb",
      "provenance": [],
      "collapsed_sections": [],
      "authorship_tag": "ABX9TyPYV6XMSu+SREMv+L+H5MQW",
      "include_colab_link": true
    },
    "kernelspec": {
      "name": "python3",
      "display_name": "Python 3"
    },
    "language_info": {
      "name": "python"
    }
  },
  "cells": [
    {
      "cell_type": "markdown",
      "metadata": {
        "id": "view-in-github",
        "colab_type": "text"
      },
      "source": [
        "<a href=\"https://colab.research.google.com/github/KARTIKEYgarg1/udemy-data-science-and-ml/blob/master/Programs.ipynb\" target=\"_parent\"><img src=\"https://colab.research.google.com/assets/colab-badge.svg\" alt=\"Open In Colab\"/></a>"
      ]
    },
    {
      "cell_type": "code",
      "execution_count": null,
      "metadata": {
        "colab": {
          "base_uri": "https://localhost:8080/"
        },
        "id": "QYSQiDa1EwBA",
        "outputId": "834bc94d-2104-457d-8962-a492c973de0e"
      },
      "outputs": [
        {
          "output_type": "execute_result",
          "data": {
            "text/plain": [
              "[5, 3, 3, 2, 2, 1, 0, -5, -8]"
            ]
          },
          "metadata": {},
          "execution_count": 5
        }
      ],
      "source": [
        "\"\"\"\n",
        "LECTURE 39:SORTING A LIST\n",
        "\"\"\"\n",
        "\n",
        "L=[5,2,3,-5,3,2,1,0,-8]\n",
        "for i in range(len(L)):\n",
        "  for j in range(i,len(L)):\n",
        "    if L[i]<L[j]:\n",
        "      L[i],L[j]=L[j],L[i]\n",
        "L"
      ]
    },
    {
      "cell_type": "code",
      "source": [
        "\"\"\"Lecture 41:CREATING A SAMPLE \"\"\"\n",
        "\n",
        "\n",
        "def Sample():\n",
        "  \"\"\"This is a Sample Documentation: it can be viewed and saved for future purpose\"\"\"\n",
        "  print(\"runned\")\n",
        "Sample?"
      ],
      "metadata": {
        "id": "DddIWU97HEXo"
      },
      "execution_count": 7,
      "outputs": []
    },
    {
      "cell_type": "code",
      "source": [
        "help(Sample)"
      ],
      "metadata": {
        "colab": {
          "base_uri": "https://localhost:8080/"
        },
        "id": "0wBP9JZ-mQkX",
        "outputId": "ca8c9567-300a-42e3-b4b9-7a381d88a085"
      },
      "execution_count": 8,
      "outputs": [
        {
          "output_type": "stream",
          "name": "stdout",
          "text": [
            "Help on function Sample in module __main__:\n",
            "\n",
            "Sample()\n",
            "    This is a Sample Documentation: it can be viewed and saved for future purpose\n",
            "\n"
          ]
        }
      ]
    },
    {
      "cell_type": "code",
      "source": [
        "\"\"\"Lecture 42:Telling if input is string or not \"\"\"\n",
        "\n",
        "\n",
        "def printMsg(msg):\n",
        "  if isinstance(msg,str):\n",
        "    print(\"It is string\")\n",
        "  else:\n",
        "    print(\"It is not string\")\n",
        "    print(\"It is of\",type(msg))\n",
        "printMsg(\"wow\")\n",
        "printMsg(93.5)"
      ],
      "metadata": {
        "colab": {
          "base_uri": "https://localhost:8080/"
        },
        "id": "9EYKOXB5lYnF",
        "outputId": "e8dd2fae-2cca-427f-98d8-ddcc4ad78e83"
      },
      "execution_count": 5,
      "outputs": [
        {
          "output_type": "stream",
          "name": "stdout",
          "text": [
            "It is string\n",
            "It is not string\n",
            "It is of <class 'float'>\n"
          ]
        }
      ]
    },
    {
      "cell_type": "code",
      "source": [
        "\"\"\"Lecture 47:Making a function which adds any number of arguments\"\"\"\n",
        "\n",
        "def myAdd(*a):\n",
        "  s=0\n",
        "  for i in range(len(a)):\n",
        "    s=s+a[i]\n",
        "  print(s)\n",
        "myAdd(2,3)\n",
        "myAdd(2,3,5,7,9)"
      ],
      "metadata": {
        "colab": {
          "base_uri": "https://localhost:8080/"
        },
        "id": "25SNkxiehQj5",
        "outputId": "bd38df26-ac4a-4595-845b-bf2ab4f7bc27"
      },
      "execution_count": 1,
      "outputs": [
        {
          "output_type": "stream",
          "name": "stdout",
          "text": [
            "5\n",
            "26\n"
          ]
        }
      ]
    },
    {
      "cell_type": "code",
      "source": [
        "\"\"\"Lecture 48:Making a function which any number of arguments for a variables\"\"\"\n",
        "\n",
        "def myDic(**a):\n",
        "  for i in a:\n",
        "    print(i,a[i])\n",
        "myDic(apple=40,banana=50)\n",
        "myDic(peach=10,mango=20,grape=90)"
      ],
      "metadata": {
        "colab": {
          "base_uri": "https://localhost:8080/"
        },
        "id": "7fZfbeDyiN86",
        "outputId": "95b497a6-58dc-4939-b734-93093260ea32"
      },
      "execution_count": 7,
      "outputs": [
        {
          "output_type": "stream",
          "name": "stdout",
          "text": [
            "apple 40\n",
            "banana 50\n",
            "peach 10\n",
            "mango 20\n",
            "grape 90\n"
          ]
        }
      ]
    },
    {
      "cell_type": "code",
      "source": [
        "\"\"\"Lecture 52:Finding smallest number in list\"\"\"\n",
        "def minValue(L):\n",
        "  m=L[0]\n",
        "  c=0\n",
        "  idx=0\n",
        "  for i in L:\n",
        "    if i<m:\n",
        "      m=i\n",
        "      idx=c\n",
        "    c=c+1\n",
        "  return m,idx\n",
        "print(minValue([5,2,3,-1]))"
      ],
      "metadata": {
        "colab": {
          "base_uri": "https://localhost:8080/"
        },
        "id": "vg1eN_aWj27U",
        "outputId": "1bac81a8-6585-4394-b2a5-905c6113e234"
      },
      "execution_count": 11,
      "outputs": [
        {
          "output_type": "stream",
          "name": "stdout",
          "text": [
            "(-1, 3)\n"
          ]
        }
      ]
    },
    {
      "cell_type": "code",
      "source": [],
      "metadata": {
        "id": "IblEkfyLFYVh"
      },
      "execution_count": null,
      "outputs": []
    }
  ]
}