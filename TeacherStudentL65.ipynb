{
  "nbformat": 4,
  "nbformat_minor": 0,
  "metadata": {
    "colab": {
      "name": "TeacherStudentL65.ipynb",
      "provenance": [],
      "collapsed_sections": [],
      "authorship_tag": "ABX9TyPyvUPSAwTjmdzeqbNCMU2M",
      "include_colab_link": true
    },
    "kernelspec": {
      "name": "python3",
      "display_name": "Python 3"
    },
    "language_info": {
      "name": "python"
    }
  },
  "cells": [
    {
      "cell_type": "markdown",
      "metadata": {
        "id": "view-in-github",
        "colab_type": "text"
      },
      "source": [
        "<a href=\"https://colab.research.google.com/github/KARTIKEYgarg1/udemy-data-science-and-ml/blob/master/TeacherStudentL65.ipynb\" target=\"_parent\"><img src=\"https://colab.research.google.com/assets/colab-badge.svg\" alt=\"Open In Colab\"/></a>"
      ]
    },
    {
      "cell_type": "code",
      "execution_count": 1,
      "metadata": {
        "colab": {
          "base_uri": "https://localhost:8080/",
          "height": 53
        },
        "id": "9T9kwCHdGKgY",
        "outputId": "7ed28ad8-56a2-4d29-eb58-c5e28a28236c"
      },
      "outputs": [
        {
          "output_type": "execute_result",
          "data": {
            "text/plain": [
              "'Lets say you are a teacher and you have different student records containing\\nid of student and the marks list in each subject where different students\\nhas taken different number pf subjects.All these students are in hard copy,\\n so you want to enter student records and compute average'"
            ],
            "application/vnd.google.colaboratory.intrinsic+json": {
              "type": "string"
            }
          },
          "metadata": {},
          "execution_count": 1
        }
      ],
      "source": [
        "\"\"\"Lecture 65:\"\"\"\n",
        "\n",
        "\"\"\"Lets say you are a teacher and you have different student records containing\n",
        "id of student and the marks list in each subject where different students\n",
        "has taken different number pf subjects.All these students are in hard copy,\n",
        " so you want to enter student records and compute average\"\"\""
      ]
    },
    {
      "cell_type": "code",
      "source": [
        "D={}\n",
        "while(True):\n",
        "  stdId=input(\"Enter Student ID: \")\n",
        "  marks=input(\"Enter marks seperated by ','\")\n",
        "  if stdId in D:\n",
        "    print(\"Student id already present\")\n",
        "  else:\n",
        "    D[stdId]=marks.split(\",\")\n",
        "  choice=input(\"Enter y to enter more: \")\n",
        "  if choice.lower()!=\"y\":\n",
        "    break;"
      ],
      "metadata": {
        "colab": {
          "base_uri": "https://localhost:8080/"
        },
        "id": "qGqDsueTGZSf",
        "outputId": "86309189-d158-4f90-b1f6-c8b6f779a6a2"
      },
      "execution_count": 14,
      "outputs": [
        {
          "name": "stdout",
          "output_type": "stream",
          "text": [
            "Enter Student ID: 1\n",
            "Enter marks seperated by ','12,36,48\n",
            "Enter y to enter more: y\n",
            "Enter Student ID: 12\n",
            "Enter marks seperated by ','36,98,74,43\n",
            "Enter y to enter more: y\n",
            "Enter Student ID: 1\n",
            "Enter marks seperated by ','45\n",
            "Student id already present\n",
            "Enter y to enter more: y\n",
            "Enter Student ID: 6\n",
            "Enter marks seperated by ','24\n",
            "Enter y to enter more: n\n"
          ]
        }
      ]
    },
    {
      "cell_type": "code",
      "source": [
        "D"
      ],
      "metadata": {
        "colab": {
          "base_uri": "https://localhost:8080/"
        },
        "id": "8FHe6fFsGpTP",
        "outputId": "fbd4822b-37e0-4453-cb8c-1dbfd03b7ea8"
      },
      "execution_count": 15,
      "outputs": [
        {
          "output_type": "execute_result",
          "data": {
            "text/plain": [
              "{'1': ['12', '36', '48'], '12': ['36', '98', '74', '43'], '6': ['24']}"
            ]
          },
          "metadata": {},
          "execution_count": 15
        }
      ]
    },
    {
      "cell_type": "code",
      "source": [
        "def avg(D):\n",
        "  avgMarks={}\n",
        "  for x in D:\n",
        "    s=0\n",
        "    for i in D[x]:\n",
        "      s=s+int(i)\n",
        "    avgMarks[x]=s//len(D[x]);\n",
        "  return avgMarks"
      ],
      "metadata": {
        "id": "wHhHgrVAUIoZ"
      },
      "execution_count": 20,
      "outputs": []
    },
    {
      "cell_type": "code",
      "source": [
        "avg(D)"
      ],
      "metadata": {
        "colab": {
          "base_uri": "https://localhost:8080/"
        },
        "id": "M5YJAECBUVuo",
        "outputId": "f2492766-76ac-4a9c-fac7-8b4e31c44396"
      },
      "execution_count": 21,
      "outputs": [
        {
          "output_type": "execute_result",
          "data": {
            "text/plain": [
              "{'1': 32, '12': 62, '6': 24}"
            ]
          },
          "metadata": {},
          "execution_count": 21
        }
      ]
    }
  ]
}