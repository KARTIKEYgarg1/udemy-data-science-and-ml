{
  "nbformat": 4,
  "nbformat_minor": 0,
  "metadata": {
    "colab": {
      "name": "Practice.ipynb",
      "provenance": [],
      "collapsed_sections": [],
      "authorship_tag": "ABX9TyNRZoQM7zdJJtAJrHjj/AKr",
      "include_colab_link": true
    },
    "kernelspec": {
      "name": "python3",
      "display_name": "Python 3"
    },
    "language_info": {
      "name": "python"
    }
  },
  "cells": [
    {
      "cell_type": "markdown",
      "metadata": {
        "id": "view-in-github",
        "colab_type": "text"
      },
      "source": [
        "<a href=\"https://colab.research.google.com/github/KARTIKEYgarg1/udemy-data-science-and-ml/blob/master/Practice.ipynb\" target=\"_parent\"><img src=\"https://colab.research.google.com/assets/colab-badge.svg\" alt=\"Open In Colab\"/></a>"
      ]
    },
    {
      "cell_type": "code",
      "execution_count": null,
      "metadata": {
        "colab": {
          "base_uri": "https://localhost:8080/"
        },
        "id": "ioTYj6M6Bzcd",
        "outputId": "05ac07db-5a40-4571-953b-c71aad9aa97e"
      },
      "outputs": [
        {
          "output_type": "stream",
          "name": "stdout",
          "text": [
            "0\n",
            "1\n",
            "2\n",
            "3\n",
            "4\n",
            "done\n"
          ]
        }
      ],
      "source": [
        "for i in range(5):\n",
        "  print(i)\n",
        "else:\n",
        "  print(\"done\")"
      ]
    },
    {
      "cell_type": "code",
      "source": [
        "D={'apple':50,'mango':90}\n",
        "for x in D:\n",
        "  print(x,D[x])"
      ],
      "metadata": {
        "colab": {
          "base_uri": "https://localhost:8080/"
        },
        "id": "SSrLMhKnCAr0",
        "outputId": "c456333a-b4e4-4e20-8b15-571daba098d8"
      },
      "execution_count": null,
      "outputs": [
        {
          "output_type": "stream",
          "name": "stdout",
          "text": [
            "apple 50\n",
            "mango 90\n"
          ]
        }
      ]
    },
    {
      "cell_type": "code",
      "source": [
        "len??"
      ],
      "metadata": {
        "id": "W2PKhU22lCNr"
      },
      "execution_count": null,
      "outputs": []
    },
    {
      "cell_type": "code",
      "source": [
        "len?"
      ],
      "metadata": {
        "id": "IhleHTTBlAaS"
      },
      "execution_count": null,
      "outputs": []
    },
    {
      "cell_type": "code",
      "source": [
        "def samp():\n",
        "  print(\"wow\")\n",
        "print(samp())"
      ],
      "metadata": {
        "colab": {
          "base_uri": "https://localhost:8080/"
        },
        "id": "qALdcgbWoTfM",
        "outputId": "c6af8c68-10b7-4de2-fa50-70b02cfc765b"
      },
      "execution_count": 3,
      "outputs": [
        {
          "output_type": "stream",
          "name": "stdout",
          "text": [
            "wow\n",
            "None\n"
          ]
        }
      ]
    },
    {
      "cell_type": "code",
      "source": [
        "def sampl(x=0):\n",
        "  print(x)\n",
        "sampl(5)\n",
        "sampl()"
      ],
      "metadata": {
        "colab": {
          "base_uri": "https://localhost:8080/"
        },
        "id": "oZ4n9ssMoXkZ",
        "outputId": "dda580be-1673-4271-a658-01e151d5f21a"
      },
      "execution_count": 1,
      "outputs": [
        {
          "output_type": "stream",
          "name": "stdout",
          "text": [
            "5\n",
            "0\n"
          ]
        }
      ]
    },
    {
      "cell_type": "code",
      "source": [
        "\"\"\"5^1 % 2\"\"\"\n",
        "pow(5,1,2)"
      ],
      "metadata": {
        "colab": {
          "base_uri": "https://localhost:8080/"
        },
        "id": "E2INjLaqjyDN",
        "outputId": "433f47ef-da01-4fea-e96f-65200ff64c55"
      },
      "execution_count": 2,
      "outputs": [
        {
          "output_type": "execute_result",
          "data": {
            "text/plain": [
              "1"
            ]
          },
          "metadata": {},
          "execution_count": 2
        }
      ]
    },
    {
      "cell_type": "code",
      "source": [
        "x=\"You are the best\"\n",
        "print(x[::3])\n",
        "print(x[::-1])\n",
        "print(x[::1])"
      ],
      "metadata": {
        "colab": {
          "base_uri": "https://localhost:8080/"
        },
        "id": "HNo-skWhs2sj",
        "outputId": "7d89c988-fe3d-46e6-a06b-7ac63604ff5f"
      },
      "execution_count": 6,
      "outputs": [
        {
          "output_type": "stream",
          "name": "stdout",
          "text": [
            "Y ehbt\n",
            "tseb eht era uoY\n",
            "You are the best\n"
          ]
        }
      ]
    },
    {
      "cell_type": "code",
      "source": [
        "L=[1,2,3,4]\n",
        "L2=L\n",
        "print(L)\n",
        "print(L2)\n",
        "L2[3]=\"four\"\n",
        "print(L)\n",
        "print(L2)"
      ],
      "metadata": {
        "colab": {
          "base_uri": "https://localhost:8080/"
        },
        "id": "ZUHJUCIN0dKk",
        "outputId": "b98db0f9-1c4c-461c-e8e2-6f300ae2cb11"
      },
      "execution_count": 7,
      "outputs": [
        {
          "output_type": "stream",
          "name": "stdout",
          "text": [
            "[1, 2, 3, 4]\n",
            "[1, 2, 3, 4]\n",
            "[1, 2, 3, 'four']\n",
            "[1, 2, 3, 'four']\n"
          ]
        }
      ]
    }
  ]
}