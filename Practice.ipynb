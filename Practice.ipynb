{
  "nbformat": 4,
  "nbformat_minor": 0,
  "metadata": {
    "colab": {
      "name": "Practice.ipynb",
      "provenance": [],
      "collapsed_sections": [],
      "authorship_tag": "ABX9TyMvu3fAYPwVA8jRQMAuwUb3",
      "include_colab_link": true
    },
    "kernelspec": {
      "name": "python3",
      "display_name": "Python 3"
    },
    "language_info": {
      "name": "python"
    }
  },
  "cells": [
    {
      "cell_type": "markdown",
      "metadata": {
        "id": "view-in-github",
        "colab_type": "text"
      },
      "source": [
        "<a href=\"https://colab.research.google.com/github/KARTIKEYgarg1/udemy-data-science-and-ml/blob/master/Practice.ipynb\" target=\"_parent\"><img src=\"https://colab.research.google.com/assets/colab-badge.svg\" alt=\"Open In Colab\"/></a>"
      ]
    },
    {
      "cell_type": "code",
      "execution_count": null,
      "metadata": {
        "colab": {
          "base_uri": "https://localhost:8080/"
        },
        "id": "ioTYj6M6Bzcd",
        "outputId": "05ac07db-5a40-4571-953b-c71aad9aa97e"
      },
      "outputs": [
        {
          "output_type": "stream",
          "name": "stdout",
          "text": [
            "0\n",
            "1\n",
            "2\n",
            "3\n",
            "4\n",
            "done\n"
          ]
        }
      ],
      "source": [
        "for i in range(5):\n",
        "  print(i)\n",
        "else:\n",
        "  print(\"done\")"
      ]
    },
    {
      "cell_type": "code",
      "source": [
        "D={'apple':50,'mango':90}\n",
        "for x in D:\n",
        "  print(x,D[x])"
      ],
      "metadata": {
        "colab": {
          "base_uri": "https://localhost:8080/"
        },
        "id": "SSrLMhKnCAr0",
        "outputId": "c456333a-b4e4-4e20-8b15-571daba098d8"
      },
      "execution_count": null,
      "outputs": [
        {
          "output_type": "stream",
          "name": "stdout",
          "text": [
            "apple 50\n",
            "mango 90\n"
          ]
        }
      ]
    },
    {
      "cell_type": "code",
      "source": [
        "len??"
      ],
      "metadata": {
        "id": "W2PKhU22lCNr"
      },
      "execution_count": null,
      "outputs": []
    },
    {
      "cell_type": "code",
      "source": [
        "len?"
      ],
      "metadata": {
        "id": "IhleHTTBlAaS"
      },
      "execution_count": null,
      "outputs": []
    },
    {
      "cell_type": "code",
      "source": [
        "def samp():\n",
        "  print(\"wow\")\n",
        "print(samp())"
      ],
      "metadata": {
        "colab": {
          "base_uri": "https://localhost:8080/"
        },
        "id": "qALdcgbWoTfM",
        "outputId": "c6af8c68-10b7-4de2-fa50-70b02cfc765b"
      },
      "execution_count": null,
      "outputs": [
        {
          "output_type": "stream",
          "name": "stdout",
          "text": [
            "wow\n",
            "None\n"
          ]
        }
      ]
    },
    {
      "cell_type": "code",
      "source": [
        "def sampl(x=0):\n",
        "  print(x)\n",
        "sampl(5)\n",
        "sampl()"
      ],
      "metadata": {
        "colab": {
          "base_uri": "https://localhost:8080/"
        },
        "id": "oZ4n9ssMoXkZ",
        "outputId": "dda580be-1673-4271-a658-01e151d5f21a"
      },
      "execution_count": null,
      "outputs": [
        {
          "output_type": "stream",
          "name": "stdout",
          "text": [
            "5\n",
            "0\n"
          ]
        }
      ]
    },
    {
      "cell_type": "code",
      "source": [
        "\"\"\"5^1 % 2\"\"\"\n",
        "pow(5,1,2)"
      ],
      "metadata": {
        "colab": {
          "base_uri": "https://localhost:8080/"
        },
        "id": "E2INjLaqjyDN",
        "outputId": "433f47ef-da01-4fea-e96f-65200ff64c55"
      },
      "execution_count": null,
      "outputs": [
        {
          "output_type": "execute_result",
          "data": {
            "text/plain": [
              "1"
            ]
          },
          "metadata": {},
          "execution_count": 2
        }
      ]
    },
    {
      "cell_type": "code",
      "source": [
        "x=\"You are the best\"\n",
        "print(x[::3])\n",
        "print(x[::-1])\n",
        "print(x[::1])"
      ],
      "metadata": {
        "colab": {
          "base_uri": "https://localhost:8080/"
        },
        "id": "HNo-skWhs2sj",
        "outputId": "7d89c988-fe3d-46e6-a06b-7ac63604ff5f"
      },
      "execution_count": null,
      "outputs": [
        {
          "output_type": "stream",
          "name": "stdout",
          "text": [
            "Y ehbt\n",
            "tseb eht era uoY\n",
            "You are the best\n"
          ]
        }
      ]
    },
    {
      "cell_type": "code",
      "source": [
        "L=[1,2,3,4]\n",
        "L2=L\n",
        "print(L)\n",
        "print(L2)\n",
        "L2[3]=\"four\"\n",
        "print(L)\n",
        "print(L2)"
      ],
      "metadata": {
        "colab": {
          "base_uri": "https://localhost:8080/"
        },
        "id": "ZUHJUCIN0dKk",
        "outputId": "b98db0f9-1c4c-461c-e8e2-6f300ae2cb11"
      },
      "execution_count": null,
      "outputs": [
        {
          "output_type": "stream",
          "name": "stdout",
          "text": [
            "[1, 2, 3, 4]\n",
            "[1, 2, 3, 4]\n",
            "[1, 2, 3, 'four']\n",
            "[1, 2, 3, 'four']\n"
          ]
        }
      ]
    },
    {
      "cell_type": "code",
      "source": [
        "import numpy as np\n",
        "a=np.array((1,2,3,4,5))\n",
        "b=np.array((1,2,3,4,5),dtype=\"f\")\n",
        "c=np.array([ [ [-1,-2],[1,2],[3,4] ],[ [5,6],[7,8],[9,10] ]])\n",
        "print(a.dtype)\n",
        "print(a.dtype)\n",
        "print(b.dtype)\n",
        "print(c.ndim)\n",
        "print(c[0][1])\n",
        "print(c[1,0])\n",
        "print(c)\n",
        "print(c.shape)\n",
        "c=c.reshape(2,2,3)\n",
        "print(c)\n",
        "print(c.shape)"
      ],
      "metadata": {
        "id": "4RUtAOdIXtdb",
        "outputId": "157230fc-bf1a-4a11-92fe-1c0202f1e2c1",
        "colab": {
          "base_uri": "https://localhost:8080/"
        }
      },
      "execution_count": 8,
      "outputs": [
        {
          "output_type": "stream",
          "name": "stdout",
          "text": [
            "int64\n",
            "int64\n",
            "float32\n",
            "3\n",
            "[1 2]\n",
            "[5 6]\n",
            "[[[-1 -2]\n",
            "  [ 1  2]\n",
            "  [ 3  4]]\n",
            "\n",
            " [[ 5  6]\n",
            "  [ 7  8]\n",
            "  [ 9 10]]]\n",
            "(2, 3, 2)\n",
            "[[[-1 -2  1]\n",
            "  [ 2  3  4]]\n",
            "\n",
            " [[ 5  6  7]\n",
            "  [ 8  9 10]]]\n",
            "(2, 2, 3)\n"
          ]
        }
      ]
    },
    {
      "cell_type": "code",
      "source": [
        "import numpy as np\n",
        "x=np.array([0,2,1],ndmin=4)\n",
        "A=np.arange(30,100,3)\n",
        "B=np.random.permutation(np.arange(10))\n",
        "print(x)\n",
        "print(x.shape)\n",
        "print(A)\n",
        "print(B)\n",
        "print(np.random.randint(20,30))\n",
        "print(np.random.rand(10))"
      ],
      "metadata": {
        "id": "WntTwIAPbHOc",
        "outputId": "f967847b-59e4-401c-c755-b1e6770ee63e",
        "colab": {
          "base_uri": "https://localhost:8080/"
        }
      },
      "execution_count": 9,
      "outputs": [
        {
          "output_type": "stream",
          "name": "stdout",
          "text": [
            "[[[[0 2 1]]]]\n",
            "(1, 1, 1, 3)\n",
            "[30 33 36 39 42 45 48 51 54 57 60 63 66 69 72 75 78 81 84 87 90 93 96 99]\n",
            "[1 2 9 7 5 6 4 3 8 0]\n",
            "23\n",
            "[0.04113817 0.48624428 0.65920907 0.58000479 0.61378248 0.52763703\n",
            " 0.3415723  0.13498225 0.91576484 0.05873574]\n"
          ]
        }
      ]
    }
  ]
}